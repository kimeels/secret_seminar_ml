{
 "cells": [
  {
   "cell_type": "markdown",
   "metadata": {},
   "source": [
    "# Machine Learning Tutorial\n",
    "\n",
    "#### Heavily inspired by Dr Michelle Lochner"
   ]
  },
  {
   "cell_type": "code",
   "execution_count": 117,
   "metadata": {
    "collapsed": false,
    "jupyter": {
     "outputs_hidden": false
    }
   },
   "outputs": [],
   "source": [
    "import numpy as np\n",
    "import matplotlib.pyplot as pl\n",
    "import sncosmo\n",
    "from astropy.table import Table\n",
    "import pandas as pd\n",
    "from sklearn.model_selection import train_test_split\n",
    "from sklearn.model_selection import GridSearchCV\n",
    "from sklearn.metrics import confusion_matrix, classification_report, roc_curve, roc_auc_score\n",
    "from sklearn.preprocessing import StandardScaler\n",
    "from sklearn.neighbors import KNeighborsClassifier\n",
    "from sklearn.ensemble import RandomForestClassifier\n",
    "import time\n",
    "import itertools"
   ]
  },
  {
   "cell_type": "markdown",
   "metadata": {},
   "source": [
    "# Section 1: Setup"
   ]
  },
  {
   "cell_type": "markdown",
   "metadata": {},
   "source": [
    "### How to read in a supernova light curve as an astropy table"
   ]
  },
  {
   "cell_type": "markdown",
   "metadata": {},
   "source": [
    "I've saved the supernova light curves in a format that `sncosmo` can read: an astropy table. The cell below reads in a single object's data and displays the table. \n",
    "\n",
    "The columns are: <br>\n",
    "`mjd`: Time in days since the first observation of the supernova <br>\n",
    "`filter`: Which filter band the observation is in (i.e. which colour)<br>\n",
    "`flux`: The flux (brightness) in that band<br>\n",
    "`flux_error`: Uncertainty on the flux due to instrumental noise<br>\n",
    "`zp`: What magnitude the flux is calibrated to (don't worry too much about this)<br>\n",
    "`zpsys`: The system used to calibrate the flux (also don't worry)"
   ]
  },
  {
   "cell_type": "code",
   "execution_count": 38,
   "metadata": {
    "collapsed": false,
    "jupyter": {
     "outputs_hidden": false
    }
   },
   "outputs": [
    {
     "data": {
      "text/html": [
       "<div>\n",
       "<style scoped>\n",
       "    .dataframe tbody tr th:only-of-type {\n",
       "        vertical-align: middle;\n",
       "    }\n",
       "\n",
       "    .dataframe tbody tr th {\n",
       "        vertical-align: top;\n",
       "    }\n",
       "\n",
       "    .dataframe thead th {\n",
       "        text-align: right;\n",
       "    }\n",
       "</style>\n",
       "<table border=\"1\" class=\"dataframe\">\n",
       "  <thead>\n",
       "    <tr style=\"text-align: right;\">\n",
       "      <th></th>\n",
       "      <th>mjd</th>\n",
       "      <th>filter</th>\n",
       "      <th>flux</th>\n",
       "      <th>flux_error</th>\n",
       "      <th>zp</th>\n",
       "      <th>zpsys</th>\n",
       "    </tr>\n",
       "  </thead>\n",
       "  <tbody>\n",
       "    <tr>\n",
       "      <th>0</th>\n",
       "      <td>0.000</td>\n",
       "      <td>desg</td>\n",
       "      <td>95.18</td>\n",
       "      <td>5.147</td>\n",
       "      <td>27.5</td>\n",
       "      <td>ab</td>\n",
       "    </tr>\n",
       "    <tr>\n",
       "      <th>1</th>\n",
       "      <td>0.008</td>\n",
       "      <td>desr</td>\n",
       "      <td>116.10</td>\n",
       "      <td>3.062</td>\n",
       "      <td>27.5</td>\n",
       "      <td>ab</td>\n",
       "    </tr>\n",
       "    <tr>\n",
       "      <th>2</th>\n",
       "      <td>0.024</td>\n",
       "      <td>desi</td>\n",
       "      <td>102.80</td>\n",
       "      <td>3.700</td>\n",
       "      <td>27.5</td>\n",
       "      <td>ab</td>\n",
       "    </tr>\n",
       "    <tr>\n",
       "      <th>3</th>\n",
       "      <td>0.047</td>\n",
       "      <td>desz</td>\n",
       "      <td>103.70</td>\n",
       "      <td>3.153</td>\n",
       "      <td>27.5</td>\n",
       "      <td>ab</td>\n",
       "    </tr>\n",
       "    <tr>\n",
       "      <th>4</th>\n",
       "      <td>2.997</td>\n",
       "      <td>desg</td>\n",
       "      <td>174.70</td>\n",
       "      <td>4.272</td>\n",
       "      <td>27.5</td>\n",
       "      <td>ab</td>\n",
       "    </tr>\n",
       "    <tr>\n",
       "      <th>...</th>\n",
       "      <td>...</td>\n",
       "      <td>...</td>\n",
       "      <td>...</td>\n",
       "      <td>...</td>\n",
       "      <td>...</td>\n",
       "      <td>...</td>\n",
       "    </tr>\n",
       "    <tr>\n",
       "      <th>109</th>\n",
       "      <td>97.028</td>\n",
       "      <td>desz</td>\n",
       "      <td>31.11</td>\n",
       "      <td>2.329</td>\n",
       "      <td>27.5</td>\n",
       "      <td>ab</td>\n",
       "    </tr>\n",
       "    <tr>\n",
       "      <th>110</th>\n",
       "      <td>104.969</td>\n",
       "      <td>desg</td>\n",
       "      <td>10.77</td>\n",
       "      <td>2.104</td>\n",
       "      <td>27.5</td>\n",
       "      <td>ab</td>\n",
       "    </tr>\n",
       "    <tr>\n",
       "      <th>111</th>\n",
       "      <td>104.993</td>\n",
       "      <td>desr</td>\n",
       "      <td>23.86</td>\n",
       "      <td>1.366</td>\n",
       "      <td>27.5</td>\n",
       "      <td>ab</td>\n",
       "    </tr>\n",
       "    <tr>\n",
       "      <th>112</th>\n",
       "      <td>105.012</td>\n",
       "      <td>desi</td>\n",
       "      <td>46.30</td>\n",
       "      <td>2.011</td>\n",
       "      <td>27.5</td>\n",
       "      <td>ab</td>\n",
       "    </tr>\n",
       "    <tr>\n",
       "      <th>113</th>\n",
       "      <td>105.036</td>\n",
       "      <td>desz</td>\n",
       "      <td>32.18</td>\n",
       "      <td>2.372</td>\n",
       "      <td>27.5</td>\n",
       "      <td>ab</td>\n",
       "    </tr>\n",
       "  </tbody>\n",
       "</table>\n",
       "<p>114 rows × 6 columns</p>\n",
       "</div>"
      ],
      "text/plain": [
       "         mjd filter    flux  flux_error    zp zpsys\n",
       "0      0.000   desg   95.18       5.147  27.5    ab\n",
       "1      0.008   desr  116.10       3.062  27.5    ab\n",
       "2      0.024   desi  102.80       3.700  27.5    ab\n",
       "3      0.047   desz  103.70       3.153  27.5    ab\n",
       "4      2.997   desg  174.70       4.272  27.5    ab\n",
       "..       ...    ...     ...         ...   ...   ...\n",
       "109   97.028   desz   31.11       2.329  27.5    ab\n",
       "110  104.969   desg   10.77       2.104  27.5    ab\n",
       "111  104.993   desr   23.86       1.366  27.5    ab\n",
       "112  105.012   desi   46.30       2.011  27.5    ab\n",
       "113  105.036   desz   32.18       2.372  27.5    ab\n",
       "\n",
       "[114 rows x 6 columns]"
      ]
     },
     "execution_count": 38,
     "metadata": {},
     "output_type": "execute_result"
    }
   ],
   "source": [
    "lc_file = 'training_data/34.dat'\n",
    "df_lc = pd.read_table(lc_file, sep=\" \")\n",
    "df_lc\n"
   ]
  },
  {
   "cell_type": "markdown",
   "metadata": {},
   "source": [
    "# Section 2: Feature Extraction"
   ]
  },
  {
   "cell_type": "markdown",
   "metadata": {},
   "source": [
    "### Use `sncosmo` to fit the SALT2 model to this light curve"
   ]
  },
  {
   "cell_type": "code",
   "execution_count": 34,
   "metadata": {},
   "outputs": [],
   "source": [
    "def fit_supernova(df_lc):\n",
    "    lc =  Table.from_pandas(df_lc)\n",
    "    bnds = {'z':(0.01, 1.5), 't0':(-100,100),'x0':(-1e-3, 1e-3), 'x1':(-3, 3), 'c':(-0.5, 0.5)}\n",
    "    mod = sncosmo.Model('salt2-extended')\n",
    "    res = sncosmo.fit_lc(lc, mod, vparam_names=mod.param_names, bounds=bnds, minsnr=0)\n",
    "    return res[0].parameters"
   ]
  },
  {
   "cell_type": "code",
   "execution_count": 35,
   "metadata": {
    "collapsed": false,
    "jupyter": {
     "outputs_hidden": false
    }
   },
   "outputs": [
    {
     "name": "stderr",
     "output_type": "stream",
     "text": [
      "/home/kimeel/Documents/ml_tutorial/ml_tut_venv/lib/python3.6/site-packages/sncosmo/fitting.py:156: RuntimeWarning: Dropping following bands from data: desg(out of model wavelength range)\n",
      "  \"(out of model wavelength range)\", RuntimeWarning)\n"
     ]
    },
    {
     "name": "stdout",
     "output_type": "stream",
     "text": [
      "Best fitting SALT2 parameters: [z, t0, x0, x1, c]:\n",
      "[ 7.28385580e-01  1.98758379e+01  2.50842809e-05  2.20457380e+00\n",
      " -2.65958520e-01]\n"
     ]
    }
   ],
   "source": [
    "prms = fit_supernova(df_lc)\n",
    "print('Best fitting SALT2 parameters: [z, t0, x0, x1, c]:')\n",
    "print(prms)"
   ]
  },
  {
   "cell_type": "markdown",
   "metadata": {},
   "source": [
    "### Check that the fitting worked correctly by using sncosmo's plot_lc function "
   ]
  },
  {
   "cell_type": "code",
   "execution_count": 33,
   "metadata": {
    "collapsed": false,
    "jupyter": {
     "outputs_hidden": false
    }
   },
   "outputs": [
    {
     "data": {
      "image/png": "[encoded data removed]",
      "text/plain": [
       "<Figure size 561.6x482.4 with 8 Axes>"
      ]
     },
     "execution_count": 33,
     "metadata": {},
     "output_type": "execute_result"
    },
    {
     "data": {
      "image/png": "[encoded data removed]",
      "text/plain": [
       "<Figure size 561.6x482.4 with 8 Axes>"
      ]
     },
     "metadata": {
      "needs_background": "light"
     },
     "output_type": "display_data"
    }
   ],
   "source": [
    "mod = sncosmo.Model('salt2-extended')\n",
    "mod.parameters = prms\n",
    "sncosmo.plot_lc(Table.from_pandas(df_lc), mod)"
   ]
  },
  {
   "cell_type": "markdown",
   "metadata": {},
   "source": [
    "## Load pre-extracted feature set"
   ]
  },
  {
   "cell_type": "code",
   "execution_count": 59,
   "metadata": {},
   "outputs": [
    {
     "data": {
      "text/html": [
       "<div>\n",
       "<style scoped>\n",
       "    .dataframe tbody tr th:only-of-type {\n",
       "        vertical-align: middle;\n",
       "    }\n",
       "\n",
       "    .dataframe tbody tr th {\n",
       "        vertical-align: top;\n",
       "    }\n",
       "\n",
       "    .dataframe thead th {\n",
       "        text-align: right;\n",
       "    }\n",
       "</style>\n",
       "<table border=\"1\" class=\"dataframe\">\n",
       "  <thead>\n",
       "    <tr style=\"text-align: right;\">\n",
       "      <th></th>\n",
       "      <th>z</th>\n",
       "      <th>t0</th>\n",
       "      <th>x0</th>\n",
       "      <th>x1</th>\n",
       "      <th>c</th>\n",
       "    </tr>\n",
       "    <tr>\n",
       "      <th>0</th>\n",
       "      <th></th>\n",
       "      <th></th>\n",
       "      <th></th>\n",
       "      <th></th>\n",
       "      <th></th>\n",
       "    </tr>\n",
       "  </thead>\n",
       "  <tbody>\n",
       "    <tr>\n",
       "      <th>0</th>\n",
       "      <td>0.664885</td>\n",
       "      <td>64.334480</td>\n",
       "      <td>0.000003</td>\n",
       "      <td>2.734004</td>\n",
       "      <td>-0.218864</td>\n",
       "    </tr>\n",
       "    <tr>\n",
       "      <th>1</th>\n",
       "      <td>0.732481</td>\n",
       "      <td>-3.667963</td>\n",
       "      <td>0.000003</td>\n",
       "      <td>0.637645</td>\n",
       "      <td>-0.016488</td>\n",
       "    </tr>\n",
       "    <tr>\n",
       "      <th>2</th>\n",
       "      <td>1.054637</td>\n",
       "      <td>-60.927470</td>\n",
       "      <td>0.000018</td>\n",
       "      <td>0.014775</td>\n",
       "      <td>-0.397927</td>\n",
       "    </tr>\n",
       "    <tr>\n",
       "      <th>3</th>\n",
       "      <td>1.160663</td>\n",
       "      <td>-63.861990</td>\n",
       "      <td>0.000011</td>\n",
       "      <td>-3.000000</td>\n",
       "      <td>-0.036135</td>\n",
       "    </tr>\n",
       "    <tr>\n",
       "      <th>4</th>\n",
       "      <td>0.211863</td>\n",
       "      <td>58.629560</td>\n",
       "      <td>0.000012</td>\n",
       "      <td>3.000000</td>\n",
       "      <td>0.127932</td>\n",
       "    </tr>\n",
       "    <tr>\n",
       "      <th>...</th>\n",
       "      <td>...</td>\n",
       "      <td>...</td>\n",
       "      <td>...</td>\n",
       "      <td>...</td>\n",
       "      <td>...</td>\n",
       "    </tr>\n",
       "    <tr>\n",
       "      <th>1995</th>\n",
       "      <td>0.177504</td>\n",
       "      <td>-80.734400</td>\n",
       "      <td>0.000013</td>\n",
       "      <td>-1.557493</td>\n",
       "      <td>-0.008078</td>\n",
       "    </tr>\n",
       "    <tr>\n",
       "      <th>1996</th>\n",
       "      <td>0.564805</td>\n",
       "      <td>62.196930</td>\n",
       "      <td>0.000002</td>\n",
       "      <td>-2.685392</td>\n",
       "      <td>0.268322</td>\n",
       "    </tr>\n",
       "    <tr>\n",
       "      <th>1997</th>\n",
       "      <td>0.436681</td>\n",
       "      <td>18.547850</td>\n",
       "      <td>0.000007</td>\n",
       "      <td>3.000000</td>\n",
       "      <td>0.396048</td>\n",
       "    </tr>\n",
       "    <tr>\n",
       "      <th>1998</th>\n",
       "      <td>0.452387</td>\n",
       "      <td>63.681560</td>\n",
       "      <td>0.000003</td>\n",
       "      <td>3.000000</td>\n",
       "      <td>-0.077521</td>\n",
       "    </tr>\n",
       "    <tr>\n",
       "      <th>1999</th>\n",
       "      <td>0.552008</td>\n",
       "      <td>56.722690</td>\n",
       "      <td>0.000003</td>\n",
       "      <td>-2.201142</td>\n",
       "      <td>0.137391</td>\n",
       "    </tr>\n",
       "  </tbody>\n",
       "</table>\n",
       "<p>2000 rows × 5 columns</p>\n",
       "</div>"
      ],
      "text/plain": [
       "             z         t0        x0        x1         c\n",
       "0                                                      \n",
       "0     0.664885  64.334480  0.000003  2.734004 -0.218864\n",
       "1     0.732481  -3.667963  0.000003  0.637645 -0.016488\n",
       "2     1.054637 -60.927470  0.000018  0.014775 -0.397927\n",
       "3     1.160663 -63.861990  0.000011 -3.000000 -0.036135\n",
       "4     0.211863  58.629560  0.000012  3.000000  0.127932\n",
       "...        ...        ...       ...       ...       ...\n",
       "1995  0.177504 -80.734400  0.000013 -1.557493 -0.008078\n",
       "1996  0.564805  62.196930  0.000002 -2.685392  0.268322\n",
       "1997  0.436681  18.547850  0.000007  3.000000  0.396048\n",
       "1998  0.452387  63.681560  0.000003  3.000000 -0.077521\n",
       "1999  0.552008  56.722690  0.000003 -2.201142  0.137391\n",
       "\n",
       "[2000 rows x 5 columns]"
      ]
     },
     "execution_count": 59,
     "metadata": {},
     "output_type": "execute_result"
    }
   ],
   "source": [
    "df_features = pd.read_csv('salt2_features.txt', sep=\" \", header = None, skiprows = [0], index_col=0)\n",
    "df_features.columns = ['z', 't0', 'x0', 'x1', 'c']\n",
    "df_features"
   ]
  },
  {
   "cell_type": "markdown",
   "metadata": {},
   "source": [
    "## Load labels for feature set: \n",
    "\n",
    "#### 'Ia': 1 \n",
    "#### 'II': 2 \n",
    "#### 'Ibc': 3"
   ]
  },
  {
   "cell_type": "code",
   "execution_count": 125,
   "metadata": {},
   "outputs": [
    {
     "data": {
      "text/plain": [
       "2    1261\n",
       "1     485\n",
       "3     254\n",
       "Name: Label, dtype: int64"
      ]
     },
     "execution_count": 125,
     "metadata": {},
     "output_type": "execute_result"
    }
   ],
   "source": [
    "df_labels = pd.read_csv('labels.txt', sep=\" \", header = None, skiprows = [0],index_col=0)\n",
    "df_labels.columns = ['Label']\n",
    "df_labels['Label'].value_counts()"
   ]
  },
  {
   "cell_type": "markdown",
   "metadata": {},
   "source": [
    "# Section 3: Machine Learning with Scikit-Learn"
   ]
  },
  {
   "cell_type": "markdown",
   "metadata": {},
   "source": [
    "### Split data into train and test sets"
   ]
  },
  {
   "cell_type": "code",
   "execution_count": 82,
   "metadata": {},
   "outputs": [],
   "source": [
    "X_train, X_test, y_train, y_test = train_test_split(df_features.values, df_labels['Label'].values, test_size=0.3, random_state=42)"
   ]
  },
  {
   "cell_type": "code",
   "execution_count": 83,
   "metadata": {},
   "outputs": [],
   "source": [
    "# preprocess the data using standard scaler for zero mean and unit variance\n",
    "\n",
    "scaler = StandardScaler()\n",
    "X_train = scaler.fit_transform(X_train)\n",
    "X_test = scaler.transform(X_test)"
   ]
  },
  {
   "cell_type": "markdown",
   "metadata": {},
   "source": [
    "### K-Nearest Neighbours\n"
   ]
  },
  {
   "cell_type": "code",
   "execution_count": 84,
   "metadata": {},
   "outputs": [
    {
     "name": "stdout",
     "output_type": "stream",
     "text": [
      "The accuracy score for KNN is 0.7266666666666667\n"
     ]
    }
   ],
   "source": [
    "clf = KNeighborsClassifier(n_neighbors=7)\n",
    "# fitting the model\n",
    "clf.fit(X_train, y_train)\n",
    "# accuracy score\n",
    "print('The accuracy score for KNN is', clf.score(X_test, y_test))"
   ]
  },
  {
   "cell_type": "code",
   "execution_count": 92,
   "metadata": {},
   "outputs": [
    {
     "name": "stdout",
     "output_type": "stream",
     "text": [
      "Fitting 5 folds for each of 19 candidates, totalling 95 fits\n"
     ]
    },
    {
     "name": "stderr",
     "output_type": "stream",
     "text": [
      "[Parallel(n_jobs=7)]: Using backend LokyBackend with 7 concurrent workers.\n",
      "[Parallel(n_jobs=7)]: Done  22 tasks      | elapsed:    0.2s\n"
     ]
    },
    {
     "name": "stdout",
     "output_type": "stream",
     "text": [
      "GridSearchCV took 0.36 seconds for 19 candidate parameter settings.\n"
     ]
    },
    {
     "name": "stderr",
     "output_type": "stream",
     "text": [
      "[Parallel(n_jobs=7)]: Done  95 out of  95 | elapsed:    0.4s finished\n"
     ]
    }
   ],
   "source": [
    "knn = KNeighborsClassifier()\n",
    "\n",
    "# specify parameters and distributions to sample from\n",
    "param_grid = {\"n_neighbors\": np.arange(1,20)}\n",
    "\n",
    "GSclf = GridSearchCV(knn, param_grid=param_grid,verbose = 3,n_jobs=7)\n",
    "start = time.time()\n",
    "GSclf.fit(X_train, y_train)\n",
    "\n",
    "print(\"GridSearchCV took %.2f seconds for %d candidate parameter settings.\"\n",
    "      % (time.time() - start, len(GSclf.cv_results_['params'])))\n",
    "\n",
    "clf = GSclf.best_estimator_\n",
    "\n"
   ]
  },
  {
   "cell_type": "code",
   "execution_count": 93,
   "metadata": {},
   "outputs": [
    {
     "data": {
      "text/plain": [
       "KNeighborsClassifier(algorithm='auto', leaf_size=30, metric='minkowski',\n",
       "                     metric_params=None, n_jobs=None, n_neighbors=10, p=2,\n",
       "                     weights='uniform')"
      ]
     },
     "execution_count": 93,
     "metadata": {},
     "output_type": "execute_result"
    }
   ],
   "source": [
    "clf"
   ]
  },
  {
   "cell_type": "code",
   "execution_count": 94,
   "metadata": {},
   "outputs": [
    {
     "name": "stdout",
     "output_type": "stream",
     "text": [
      "The accuracy score for KNN is 0.7466666666666667\n"
     ]
    }
   ],
   "source": [
    "print('The accuracy score for KNN is', clf.score(X_test, y_test))"
   ]
  },
  {
   "cell_type": "markdown",
   "metadata": {},
   "source": [
    "### Random forests"
   ]
  },
  {
   "cell_type": "code",
   "execution_count": 99,
   "metadata": {},
   "outputs": [],
   "source": [
    "X_train, X_test, y_train, y_test = train_test_split(df_features.values, df_labels['Label'].values, test_size=0.3, random_state=42)"
   ]
  },
  {
   "cell_type": "code",
   "execution_count": 100,
   "metadata": {},
   "outputs": [
    {
     "name": "stdout",
     "output_type": "stream",
     "text": [
      "The accuracy score for RF is 0.775\n"
     ]
    }
   ],
   "source": [
    "clf = RandomForestClassifier(n_estimators = 10)\n",
    "# fitting the model\n",
    "clf.fit(X_train, y_train)\n",
    "# accuracy score\n",
    "print('The accuracy score for RF is', clf.score(X_test, y_test))"
   ]
  },
  {
   "cell_type": "code",
   "execution_count": 129,
   "metadata": {},
   "outputs": [
    {
     "name": "stdout",
     "output_type": "stream",
     "text": [
      "Fitting 5 folds for each of 20 candidates, totalling 100 fits\n"
     ]
    },
    {
     "name": "stderr",
     "output_type": "stream",
     "text": [
      "[Parallel(n_jobs=7)]: Using backend LokyBackend with 7 concurrent workers.\n",
      "[Parallel(n_jobs=7)]: Done  22 tasks      | elapsed:    0.3s\n"
     ]
    },
    {
     "name": "stdout",
     "output_type": "stream",
     "text": [
      "GridSearchCV took 1.12 seconds for 20 candidate parameter settings.\n"
     ]
    },
    {
     "name": "stderr",
     "output_type": "stream",
     "text": [
      "[Parallel(n_jobs=7)]: Done 100 out of 100 | elapsed:    1.1s finished\n"
     ]
    }
   ],
   "source": [
    "rf = RandomForestClassifier()\n",
    "\n",
    "# specify parameters and distributions to sample from\n",
    "param_grid = {\"n_estimators\": np.arange(10,20),\n",
    "              \"criterion\": ['gini',\"entropy\"]}\n",
    "\n",
    "GSclf = GridSearchCV(rf, param_grid=param_grid,verbose = 3,n_jobs=7)\n",
    "start = time.time()\n",
    "GSclf.fit(X_train, y_train)\n",
    "\n",
    "print(\"GridSearchCV took %.2f seconds for %d candidate parameter settings.\"\n",
    "      % (time.time() - start, len(GSclf.cv_results_['params'])))\n",
    "\n",
    "rf_clf = GSclf.best_estimator_\n"
   ]
  },
  {
   "cell_type": "code",
   "execution_count": 128,
   "metadata": {},
   "outputs": [
    {
     "data": {
      "text/plain": [
       "RandomForestClassifier(bootstrap=True, ccp_alpha=0.0, class_weight=None,\n",
       "                       criterion='gini', max_depth=None, max_features='auto',\n",
       "                       max_leaf_nodes=None, max_samples=None,\n",
       "                       min_impurity_decrease=0.0, min_impurity_split=None,\n",
       "                       min_samples_leaf=1, min_samples_split=2,\n",
       "                       min_weight_fraction_leaf=0.0, n_estimators=40,\n",
       "                       n_jobs=None, oob_score=False, random_state=None,\n",
       "                       verbose=0, warm_start=False)"
      ]
     },
     "execution_count": 128,
     "metadata": {},
     "output_type": "execute_result"
    }
   ],
   "source": [
    "rf_clf"
   ]
  },
  {
   "cell_type": "code",
   "execution_count": 130,
   "metadata": {},
   "outputs": [
    {
     "name": "stdout",
     "output_type": "stream",
     "text": [
      "The accuracy score for RF is 0.7733333333333333\n"
     ]
    }
   ],
   "source": [
    "print('The accuracy score for RF is', rf_clf.score(X_test, y_test))"
   ]
  },
  {
   "cell_type": "markdown",
   "metadata": {},
   "source": [
    "### SVM? ANN?"
   ]
  },
  {
   "cell_type": "code",
   "execution_count": null,
   "metadata": {},
   "outputs": [],
   "source": []
  },
  {
   "cell_type": "code",
   "execution_count": null,
   "metadata": {},
   "outputs": [],
   "source": []
  },
  {
   "cell_type": "markdown",
   "metadata": {},
   "source": [
    "# Section 4: Evaluating the Classification"
   ]
  },
  {
   "cell_type": "code",
   "execution_count": 131,
   "metadata": {},
   "outputs": [],
   "source": [
    "def plot_confusion_matrix(cm, classes,\n",
    "                          normalize=False,\n",
    "                          title=None,\n",
    "                          cmap=pl.cm.Blues,\n",
    "                          save = False,\n",
    "                          name = 'conf_matrix.pdf'):\n",
    "    \"\"\"\n",
    "    This function prints and plots the confusion matrix.\n",
    "    Normalization can be applied by setting `normalize=True`.\n",
    "    \"\"\"\n",
    "    if normalize:\n",
    "        cm = cm.astype('float') / cm.sum(axis=1)[:, np.newaxis]\n",
    "        print(\"Normalized confusion matrix\")\n",
    "    else:\n",
    "        print('Confusion matrix, without normalization')\n",
    "\n",
    "    pl.figure(figsize=(12,9))\n",
    "    pl.imshow(cm, interpolation='nearest', cmap=cmap)\n",
    "    if title != None:\n",
    "        pl.title(title)\n",
    "    #cbar = pl.colorbar()\n",
    "    tick_marks = np.arange(len(classes))\n",
    "    pl.xticks(tick_marks, classes, rotation=60,fontweight = 'bold')\n",
    "    pl.yticks(tick_marks, classes,fontweight = 'bold')\n",
    "\n",
    "    ax = pl.gca()\n",
    "    for tick in ax.xaxis.get_major_ticks():\n",
    "        tick.label.set_fontsize(13)\n",
    "    for tick in ax.yaxis.get_major_ticks():\n",
    "        tick.label.set_fontsize(13)\n",
    "    #cbar.ax.tick_params(labelsize=13)\n",
    "\n",
    "    fmt = '.2f' if normalize else 'd'\n",
    "    thresh = cm.max() / 2.\n",
    "    for i, j in itertools.product(range(cm.shape[0]), range(cm.shape[1])):\n",
    "        text = format(cm[i, j], fmt)\n",
    "        if text == '0.00':\n",
    "            text = '0.0'\n",
    "        pl.text(j, i, text,\n",
    "                 horizontalalignment=\"center\",\n",
    "                 verticalalignment=\"center\",\n",
    "                 weight = 'medium',\n",
    "                 color=\"white\" if cm[i, j] > thresh else \"black\",\n",
    "                 fontsize = 15,\n",
    "               )\n",
    "\n",
    "    pl.grid(False)\n",
    "    pl.ylabel('True label',fontsize = 18)\n",
    "    pl.xlabel('Predicted label',fontsize = 18)\n",
    "    # get rid of the frame\n",
    "    for spine in ax.spines.values():\n",
    "        spine.set_visible(False)\n",
    "\n",
    "    # remove all the ticks and directly label each bar with respective value\n",
    "    pl.tick_params(top=False, bottom=False, left=False, right=False)\n",
    "\n",
    "\n",
    "    if save != False:\n",
    "        pl.savefig(name,bbox_inches=\"tight\")\n"
   ]
  },
  {
   "cell_type": "code",
   "execution_count": 132,
   "metadata": {},
   "outputs": [
    {
     "name": "stdout",
     "output_type": "stream",
     "text": [
      "Normalized confusion matrix\n"
     ]
    },
    {
     "data": {
      "image/png": "[encoded data removed]",
      "text/plain": [
       "<Figure size 864x648 with 1 Axes>"
      ]
     },
     "metadata": {
      "needs_background": "light"
     },
     "output_type": "display_data"
    }
   ],
   "source": [
    "cnf_matrix = confusion_matrix(y_test,rf_clf.predict(X_test),labels=np.unique(df_labels['Label'].values))\n",
    "plot_confusion_matrix(cnf_matrix, classes=np.unique(df_labels['Label'].values),normalize=True,\n",
    "                      title='')"
   ]
  },
  {
   "cell_type": "code",
   "execution_count": null,
   "metadata": {},
   "outputs": [],
   "source": []
  }
 ],
 "metadata": {
  "anaconda-cloud": {},
  "kernelspec": {
   "display_name": "ml_tut_venv",
   "language": "python",
   "name": "ml_tut_venv"
  },
  "language_info": {
   "codemirror_mode": {
    "name": "ipython",
    "version": 3
   },
   "file_extension": ".py",
   "mimetype": "text/x-python",
   "name": "python",
   "nbconvert_exporter": "python",
   "pygments_lexer": "ipython3",
   "version": "3.6.9"
  }
 },
 "nbformat": 4,
 "nbformat_minor": 4
}
